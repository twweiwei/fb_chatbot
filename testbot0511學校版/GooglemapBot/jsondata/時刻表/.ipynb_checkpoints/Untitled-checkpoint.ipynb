{
 "cells": [
  {
   "cell_type": "code",
   "execution_count": 46,
   "metadata": {
    "collapsed": false
   },
   "outputs": [
    {
     "name": "stdout",
     "output_type": "stream",
     "text": [
      "以下為往【大寮】方向之班次在【07點】停靠【西子灣站】之時刻表：\n",
      "\n",
      "第 12 班車:  07:04\n",
      "第 13 班車:  07:10\n",
      "第 14 班車:  07:15\n",
      "第 15 班車:  07:20\n",
      "第 16 班車:  07:25\n",
      "第 17 班車:  07:30\n",
      "第 18 班車:  07:35\n",
      "第 19 班車:  07:40\n",
      "第 20 班車:  07:44\n",
      "第 21 班車:  07:50\n",
      "第 22 班車:  07:55\n"
     ]
    }
   ],
   "source": [
    "#1 高雄捷運\n",
    "\n",
    "import json\n",
    "import time\n",
    "with open('MRT_Kaohsiung.json', 'r', encoding=\"utf-8\") as f:\n",
    "    data = json.load(f)\n",
    "\n",
    "mylocation = '西子灣' #使用者的input，即使用者的現在捷運站位置\n",
    "mydirection = '大寮' #使用者的input，即使用者欲抵達的捷運站位置；若mylocation為橘線只能輸入'西子灣'或'大寮'，為紅線則只能輸入'南崗山'或'小港'，但'美麗島'是四種都能輸入\n",
    "mytime = '07' #使用者的input，即使用者欲搭車的時間；需輸入整點\n",
    "today = time.strftime(\"%A\") #抓使用者的現在時間(星期)\n",
    "#print(today)\n",
    "\n",
    "a = len(data) #計算整個json檔有幾筆資料，一站有六筆資料, 共38站；a=228(38*6)\n",
    "#print(a)\n",
    "\n",
    "print('以下為往【'+mydirection+'】方向之班次在【'+mytime+'點】停靠【'+mylocation+'站】之時刻表：\\n')\n",
    "\n",
    "for i in range(a): #i=第幾筆資料\n",
    "    #找出使用者的現在位置(228取6)\n",
    "    if data[i]['StationName']['Zh_tw'] == mylocation: \n",
    "        #判斷捷運的方向(6取3)\n",
    "        if data[i]['DestinationStationName']['Zh_tw'] == mydirection:\n",
    "            #print(data[i]['StationName']['Zh_tw'], i)\n",
    "            b = len(data[i]['Timetables']) #b=總班次\n",
    "            for j in range(b):\n",
    "            #print(b)\n",
    "                #禮拜一到四、禮拜五和假日的時刻表不同，故要去判斷今天是星期幾(3取1)\n",
    "                if today == ('Monday' or 'Tuesday' or 'Wednesday' or 'Thursday'):\n",
    "                    if i % 3 == 0:\n",
    "                        x = data[i]['Timetables'][j]['ArrivalTime'].find(mytime)\n",
    "                        if 2 > x >= 0:\n",
    "                            print('第', data[i]['Timetables'][j]['Sequence'], '班車: ', data[i]['Timetables'][j]['ArrivalTime'])\n",
    "                    else:\n",
    "                        break\n",
    "                elif today == ('Saturday' or 'Sunday'):\n",
    "                    if i % 3 == 1:\n",
    "                        x = data[i]['Timetables'][j]['ArrivalTime'].find(mytime)\n",
    "                        if 2 > x >= 0:\n",
    "                            print('第', data[i]['Timetables'][j]['Sequence'], '班車: ', data[i]['Timetables'][j]['ArrivalTime'])\n",
    "                    else:\n",
    "                        break\n",
    "                else:\n",
    "                    if i % 3 == 2:\n",
    "                        x = data[i]['Timetables'][j]['ArrivalTime'].find(mytime)\n",
    "                        if 2 > x >= 0:\n",
    "                            print('第', data[i]['Timetables'][j]['Sequence'], '班車: ', data[i]['Timetables'][j]['ArrivalTime'])\n",
    "                    else:\n",
    "                        break\n",
    "\n",
    "                        \n",
    "#note\n",
    "\n",
    "#2018.02.01 13:00\n",
    "#一個站會有三筆資料，分別放星期一到四、假日和星期五的時刻表，因此需要先確定使用者當天的日期，才能知道要用哪張時刻表 (Done, 2018.02.01 22:00)\n",
    "#方法: 第i筆除三，若餘數零為平日，餘數一為假日，餘數二為星期五\n",
    "#一天至少會有140班車，最優化是只列出使用者當時時間一個小時內的車次，或是詢問使用者的想知道的車次時間範圍 (Done, 2018.02.01 23:13)\n",
    "#不能直接用data[0]，要用mylocation去尋找stationName (Done, 2018.02.01 19:44)\n",
    "\n",
    "#2018.02.01 19:44\n",
    "#因為有方向性，所以一個站應該是有六筆資料，因此需要詢問使用者是要往哪個方向 (Done, 2018.02.01 20:00)\n",
    "#Direction=營運路線方向描述(0去, 1回)\n",
    "#DestinationStaionID=目的站車站代號\n",
    "\n",
    "#2018.02.23 14:24\n",
    "#串聯的時候，可以用結巴讓使用者直接用一句話取代三個input\n",
    "#願景：票價"
   ]
  },
  {
   "cell_type": "code",
   "execution_count": 10,
   "metadata": {
    "collapsed": false
   },
   "outputs": [
    {
     "name": "stdout",
     "output_type": "stream",
     "text": [
      "1\n",
      "5\n"
     ]
    }
   ],
   "source": [
    "#測試條件式有無括號的差別(2018.02.01 23:18)\n",
    "\n",
    "#印出現在時間(H=小時, M=分, S=秒)\n",
    "#print(time.strftime(\"%H:%M:%S\"))\n",
    "\n",
    "#印出現在時間(A=星期)\n",
    "#today = time.strftime(\"%A\")\n",
    "#print(today)\n",
    "\n",
    "today = 'Friday'\n",
    "\n",
    "#無括號的情況(無論today是什麼都會印出1)\n",
    "if today == 'Monday' or 'Sunday':\n",
    "    print('1')\n",
    "elif today == 'Friday':\n",
    "    print('5')\n",
    "    \n",
    "#有括號的情況(當today等於Friday才會印出5)\n",
    "if today == ('Monday' or 'Sunday'):\n",
    "    print('1')\n",
    "elif today == 'Friday':\n",
    "    print('5')\n",
    "    \n",
    "#結論：有無括號會影響印出結果，故應謹慎編寫條件式"
   ]
  },
  {
   "cell_type": "code",
   "execution_count": null,
   "metadata": {
    "collapsed": false
   },
   "outputs": [],
   "source": []
  },
  {
   "cell_type": "code",
   "execution_count": 65,
   "metadata": {
    "collapsed": false
   },
   "outputs": [
    {
     "name": "stdout",
     "output_type": "stream",
     "text": [
      "以下為從【南港】前往【高雄】的所有班次：\n",
      "\n",
      "車次\t開車時間\t抵達時間\n",
      "105\t 06:45\t 12:10\n",
      "507\t 06:59\t 14:15\n",
      "111\t 07:44\t 11:36\n",
      "133\t 14:28\t 18:15\n",
      "149\t 18:30\t 23:47\n"
     ]
    }
   ],
   "source": [
    "#2 臺鐵\n",
    "\n",
    "import json\n",
    "import time\n",
    "with open('Train_170223.json', 'r', encoding=\"utf-8\") as f:\n",
    "    data = json.load(f)\n",
    "\n",
    "startingstation = '南港' #使用者的input，即使用者欲上車的站名\n",
    "endingstation = '高雄' #使用者的input，即使用者欲下車的站名\n",
    "\n",
    "a = len(data) #計算整個json檔有幾筆資料, 也就是總共有幾班列車, a=921\n",
    "#print(a)\n",
    "\n",
    "print('以下為從【'+startingstation+'】前往【'+endingstation+'】的所有班次：\\n')\n",
    "print('車次\\t'+'開車時間\\t'+'抵達時間')\n",
    "\n",
    "list1 = []\n",
    "list2 = []\n",
    "list3 = []\n",
    "list4 = []\n",
    "\n",
    "for i in range(a):\n",
    "    b = len(data[i]['StopTimes']) #計算第i班列車有幾個停靠站\n",
    "    #print(b)\n",
    "    for j in range(b): #第i筆資料裡的StopTimes(時刻表)裡的第j筆資料\n",
    "        if data[i]['StopTimes'][j]['StationName']['Zh_tw'] == startingstation: #該班次會在上車車站停靠\n",
    "            k = j + 1 #避免列車行駛方向錯誤\n",
    "            for k in range(k, b):\n",
    "                if data[i]['StopTimes'][k]['StationName']['Zh_tw'] == endingstation: #該班次會在下車車站停靠\n",
    "                    list1.append(str(data[i]['DailyTrainInfo']['TrainNo'])) #將車次號碼存到list1\n",
    "                    list2.append(data[i]['StopTimes'][j]['DepartureTime']) #將上車車站的開車時間存到list2\n",
    "                    list3.append(data[i]['StopTimes'][k]['ArrivalTime']) #將下車車站的抵達時間存到list3\n",
    "\n",
    "#print(list1)\n",
    "#print(list2)\n",
    "#print(list3)\n",
    "\n",
    "c = len(list1) #總共有幾班符合使用者需求的火車\n",
    "#print(c)\n",
    "\n",
    "#將同一台火車的資料合併\n",
    "for x in range(c):\n",
    "    list4.append(list2[x]+list3[x]+list1[x])\n",
    "\n",
    "#將資料以開車時間做排序後再把合併過的資料拆開來印出\n",
    "for y in range(c):\n",
    "    list4.sort()\n",
    "    print(list4[y][10:]+'\\t', list4[y][0:5]+'\\t', list4[y][5:10])\n",
    "\n",
    "    \n",
    "#note\n",
    "\n",
    "#2018.02.22 18:00\n",
    "#目標：利用上車車站與下車車站，印出符合上述兩個資料的車次，讓使用者選擇後，在印出該車次的詳細資料\n",
    "\n",
    "#2018.02.23 17:44\n",
    "#願景1：新增所有使用者會詢問的相關問題，如：車次133的火車的詳細資料、車次105的列車是否有提供輪椅服務\n",
    "#願景2：刪除車種後方的括號，如：莒光(無身障座位)\n",
    "#願景3：無車票資訊\n",
    "\n",
    "#列車時刻查詢：http://twtraffic.tra.gov.tw/twrail/TW_SearchResult.aspx"
   ]
  },
  {
   "cell_type": "code",
   "execution_count": null,
   "metadata": {
    "collapsed": false
   },
   "outputs": [],
   "source": []
  },
  {
   "cell_type": "code",
   "execution_count": null,
   "metadata": {
    "collapsed": false
   },
   "outputs": [],
   "source": []
  },
  {
   "cell_type": "code",
   "execution_count": null,
   "metadata": {
    "collapsed": false
   },
   "outputs": [],
   "source": []
  },
  {
   "cell_type": "code",
   "execution_count": null,
   "metadata": {
    "collapsed": false
   },
   "outputs": [],
   "source": []
  },
  {
   "cell_type": "code",
   "execution_count": null,
   "metadata": {
    "collapsed": false
   },
   "outputs": [],
   "source": []
  },
  {
   "cell_type": "code",
   "execution_count": null,
   "metadata": {
    "collapsed": true
   },
   "outputs": [],
   "source": []
  }
 ],
 "metadata": {
  "kernelspec": {
   "display_name": "Python 3",
   "language": "python",
   "name": "python3"
  },
  "language_info": {
   "codemirror_mode": {
    "name": "ipython",
    "version": 3
   },
   "file_extension": ".py",
   "mimetype": "text/x-python",
   "name": "python",
   "nbconvert_exporter": "python",
   "pygments_lexer": "ipython3",
   "version": "3.4.3"
  }
 },
 "nbformat": 4,
 "nbformat_minor": 2
}
